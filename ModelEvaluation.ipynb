{
 "cells": [
  {
   "cell_type": "code",
   "execution_count": 11,
   "metadata": {},
   "outputs": [],
   "source": [
    "import torch\n",
    "import torch.nn.functional as f\n",
    "from datasets import load_dataset\n",
    "from sentence_transformers import SentenceTransformer, util\n",
    "from tqdm import tqdm"
   ]
  },
  {
   "cell_type": "code",
   "execution_count": 67,
   "metadata": {},
   "outputs": [],
   "source": [
    "dataset = load_dataset(\"multi_news\")\n",
    "test_dataset = dataset['test']"
   ]
  },
  {
   "cell_type": "code",
   "execution_count": 77,
   "metadata": {},
   "outputs": [],
   "source": [
    "base_path = 'sentence-transformers/'\n",
    "model_names=['paraphrase-MiniLM-L6-v2', 'all-mpnet-base-v2', 'distiluse-base-multilingual-cased-v2', 'all-MiniLM-L12-v2'] # add more model names to evaluate\n",
    "device = 'cuda'"
   ]
  },
  {
   "cell_type": "code",
   "execution_count": 81,
   "metadata": {},
   "outputs": [],
   "source": [
    "def compute_summary_score_for_batch(model, document_batch, summary_batch):\n",
    "    input_encoded = model.encode(document_batch)\n",
    "    summary_encoded = model.encode(summary_batch)\n",
    "    score = util.cos_sim(input_encoded, summary_encoded)\n",
    "    score = torch.diag(score)\n",
    "    return score"
   ]
  },
  {
   "cell_type": "code",
   "execution_count": 79,
   "metadata": {},
   "outputs": [],
   "source": [
    "def evaluate(model_name='all-mpnet-base-v2', batch_size=32):\n",
    "    total_score = 0\n",
    "    model = SentenceTransformer(base_path + model_name)\n",
    "    test_batches = len(test_dataset['document']) // batch_size\n",
    "    loop = tqdm(total=test_batches, position=0, leave=False)\n",
    "    for i in range(0, len(test_dataset['document']), batch_size):\n",
    "        document_batch = test_dataset['document'][i:i+batch_size]\n",
    "        summary_batch = test_dataset['summary'][i:i+batch_size]\n",
    "\n",
    "        score = compute_summary_score_for_batch(model, document_batch, summary_batch)\n",
    "\n",
    "        total_score += score.mean().item()\n",
    "        # TODO: compute the average_reward so far for the display of the progress bar.\n",
    "        average_loss = total_score / ((i // batch_size) + 1)\n",
    "\n",
    "        loop.set_description(f\"Average Score: {average_loss:.4f}\")\n",
    "        loop.update(1)\n",
    "    final_average_loss = total_score / test_batches\n",
    "    print(f\"Final Average Score: {final_average_loss:.4f}\")"
   ]
  },
  {
   "cell_type": "code",
   "execution_count": 83,
   "metadata": {},
   "outputs": [
    {
     "name": "stderr",
     "output_type": "stream",
     "text": [
      "                                                                        "
     ]
    },
    {
     "name": "stdout",
     "output_type": "stream",
     "text": [
      "Final Average Score: 0.8133\n"
     ]
    },
    {
     "name": "stderr",
     "output_type": "stream",
     "text": [
      "\r"
     ]
    }
   ],
   "source": [
    "for name in model_names:\n",
    "    evaluate(name)"
   ]
  }
 ],
 "metadata": {
  "kernelspec": {
   "display_name": "CUDA",
   "language": "python",
   "name": "python3"
  },
  "language_info": {
   "codemirror_mode": {
    "name": "ipython",
    "version": 3
   },
   "file_extension": ".py",
   "mimetype": "text/x-python",
   "name": "python",
   "nbconvert_exporter": "python",
   "pygments_lexer": "ipython3",
   "version": "3.9.18"
  }
 },
 "nbformat": 4,
 "nbformat_minor": 2
}
