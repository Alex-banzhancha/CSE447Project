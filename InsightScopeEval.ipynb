{
 "cells": [
  {
   "cell_type": "code",
   "execution_count": 1,
   "metadata": {},
   "outputs": [],
   "source": [
    "import torch\n",
    "import torch.nn.functional as f\n",
    "from datasets import load_dataset\n",
    "from tqdm import tqdm\n",
    "from SentenceSimilarity import CrossSimilarity\n",
    "from sentence_transformers import util"
   ]
  },
  {
   "cell_type": "code",
   "execution_count": 2,
   "metadata": {},
   "outputs": [],
   "source": [
    "dataset = load_dataset(\"multi_news\")\n",
    "test_dataset = dataset['test']\n",
    "device = 'cuda'"
   ]
  },
  {
   "cell_type": "code",
   "execution_count": 3,
   "metadata": {},
   "outputs": [],
   "source": [
    "def eval_batch(cs: CrossSimilarity, batched_text, batched_summarys, batch_size=32):\n",
    "    res = []\n",
    "    kr = 0\n",
    "    for i in range(len(batched_text)):\n",
    "        proposed, curr = cs.compute(batched_text[i], batched_summarys[i])\n",
    "        kr += curr\n",
    "        res.append(cs.model.encode(proposed))\n",
    "    score = util.cos_sim(res, cs.model.encode(batched_summarys))\n",
    "    score = torch.diag(score)\n",
    "    return score, kr / batch_size"
   ]
  },
  {
   "cell_type": "code",
   "execution_count": 4,
   "metadata": {},
   "outputs": [],
   "source": [
    "def evaluate(model_name='all-mpnet-base-v2', batch_size=32):\n",
    "    cs = CrossSimilarity(model_name=model_name, rt=0.4)\n",
    "    total_score = 0\n",
    "    test_batches = len(test_dataset['document']) // batch_size\n",
    "    loop = tqdm(total=test_batches, position=0, leave=False)\n",
    "    for i in range(0, len(test_dataset['document']), batch_size):\n",
    "        document_batch = test_dataset['document'][i:i+batch_size]\n",
    "        summary_batch = test_dataset['summary'][i:i+batch_size]\n",
    "        score, kr = eval_batch(cs, document_batch, summary_batch, batch_size)\n",
    "        total_score += score.mean().item()\n",
    "        average_loss = total_score / ((i // batch_size) + 1)\n",
    "\n",
    "        loop.set_description(f\"Average Score: {average_loss:.4f}, with final keep rate {kr:.4f}\")\n",
    "        loop.update(1)\n",
    "    final_average_loss = total_score / test_batches\n",
    "    print(f\"Final Average Score for {model_name}: {final_average_loss:.4f}\")"
   ]
  },
  {
   "cell_type": "code",
   "execution_count": null,
   "metadata": {},
   "outputs": [],
   "source": [
    "torch.cuda.empty_cache()\n",
    "evaluate()"
   ]
  }
 ],
 "metadata": {
  "kernelspec": {
   "display_name": "CUDA",
   "language": "python",
   "name": "python3"
  },
  "language_info": {
   "codemirror_mode": {
    "name": "ipython",
    "version": 3
   },
   "file_extension": ".py",
   "mimetype": "text/x-python",
   "name": "python",
   "nbconvert_exporter": "python",
   "pygments_lexer": "ipython3",
   "version": "3.9.18"
  }
 },
 "nbformat": 4,
 "nbformat_minor": 2
}
